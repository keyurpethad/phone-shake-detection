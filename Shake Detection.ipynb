{
 "cells": [
  {
   "cell_type": "code",
   "execution_count": 2,
   "metadata": {},
   "outputs": [],
   "source": [
    "### Created by: [Keyur Pethad]\n",
    "### Date: [Dec'2022]"
   ]
  },
  {
   "cell_type": "markdown",
   "metadata": {},
   "source": [
    "### Import libraries"
   ]
  },
  {
   "cell_type": "code",
   "execution_count": 1,
   "metadata": {},
   "outputs": [],
   "source": [
    "import pandas as pd\n",
    "import warnings\n",
    "import matplotlib.pyplot as plt\n",
    "warnings.filterwarnings(\"ignore\")\n",
    "import seaborn as sns\n",
    "import numpy as np"
   ]
  },
  {
   "cell_type": "code",
   "execution_count": 2,
   "metadata": {},
   "outputs": [],
   "source": [
    "x = {}\n",
    "y = {}\n",
    "z = {}"
   ]
  },
  {
   "cell_type": "markdown",
   "metadata": {},
   "source": [
    "### Read & Analyse data"
   ]
  },
  {
   "cell_type": "code",
   "execution_count": 3,
   "metadata": {},
   "outputs": [],
   "source": [
    "x[0] = pd.read_csv('a.sensor.csv')\n",
    "x[1] = pd.read_csv('m.sensor.csv')\n",
    "x[2] = pd.read_csv('p.sensor.csv')\n",
    "z[0] = pd.read_csv('a.lbl.csv')\n",
    "z[1] = pd.read_csv('m.lbl.csv')\n",
    "z[2] = pd.read_csv('p.lbl.csv')"
   ]
  },
  {
   "cell_type": "code",
   "execution_count": 4,
   "metadata": {},
   "outputs": [
    {
     "data": {
      "text/html": [
       "<div>\n",
       "<style scoped>\n",
       "    .dataframe tbody tr th:only-of-type {\n",
       "        vertical-align: middle;\n",
       "    }\n",
       "\n",
       "    .dataframe tbody tr th {\n",
       "        vertical-align: top;\n",
       "    }\n",
       "\n",
       "    .dataframe thead th {\n",
       "        text-align: right;\n",
       "    }\n",
       "</style>\n",
       "<table border=\"1\" class=\"dataframe\">\n",
       "  <thead>\n",
       "    <tr style=\"text-align: right;\">\n",
       "      <th></th>\n",
       "      <th>timestamp(ms)</th>\n",
       "      <th>acceleration_x(g)</th>\n",
       "      <th>acceleration_y(g)</th>\n",
       "      <th>acceleration_z(g)</th>\n",
       "      <th>roll(rad)</th>\n",
       "      <th>pitch(rad)</th>\n",
       "      <th>yaw(rad)</th>\n",
       "      <th>angular_velocity_x(rad/sec)</th>\n",
       "      <th>angular_velocity_y(rad/sec)</th>\n",
       "      <th>angular_velocity_z(rad/sec)</th>\n",
       "    </tr>\n",
       "  </thead>\n",
       "  <tbody>\n",
       "    <tr>\n",
       "      <th>0</th>\n",
       "      <td>1397019805843</td>\n",
       "      <td>0.0809</td>\n",
       "      <td>-0.2223</td>\n",
       "      <td>0.2055</td>\n",
       "      <td>0.4154</td>\n",
       "      <td>-1.0777</td>\n",
       "      <td>-2.4263</td>\n",
       "      <td>-0.2120</td>\n",
       "      <td>-0.2120</td>\n",
       "      <td>0.3575</td>\n",
       "    </tr>\n",
       "    <tr>\n",
       "      <th>1</th>\n",
       "      <td>1397019805942</td>\n",
       "      <td>0.0505</td>\n",
       "      <td>-0.1454</td>\n",
       "      <td>0.0934</td>\n",
       "      <td>0.4797</td>\n",
       "      <td>-1.0745</td>\n",
       "      <td>-2.3135</td>\n",
       "      <td>-0.0847</td>\n",
       "      <td>-0.0847</td>\n",
       "      <td>0.6287</td>\n",
       "    </tr>\n",
       "    <tr>\n",
       "      <th>2</th>\n",
       "      <td>1397019806040</td>\n",
       "      <td>0.1952</td>\n",
       "      <td>0.5475</td>\n",
       "      <td>-0.0295</td>\n",
       "      <td>0.5663</td>\n",
       "      <td>-1.0610</td>\n",
       "      <td>-2.1922</td>\n",
       "      <td>-0.2483</td>\n",
       "      <td>-0.2483</td>\n",
       "      <td>0.4558</td>\n",
       "    </tr>\n",
       "    <tr>\n",
       "      <th>3</th>\n",
       "      <td>1397019806139</td>\n",
       "      <td>-0.0578</td>\n",
       "      <td>0.1958</td>\n",
       "      <td>0.0850</td>\n",
       "      <td>0.6059</td>\n",
       "      <td>-1.0666</td>\n",
       "      <td>-2.1255</td>\n",
       "      <td>-0.0796</td>\n",
       "      <td>-0.0796</td>\n",
       "      <td>0.0817</td>\n",
       "    </tr>\n",
       "    <tr>\n",
       "      <th>4</th>\n",
       "      <td>1397019806237</td>\n",
       "      <td>0.0800</td>\n",
       "      <td>-0.1689</td>\n",
       "      <td>-0.2530</td>\n",
       "      <td>0.5836</td>\n",
       "      <td>-1.0347</td>\n",
       "      <td>-2.1527</td>\n",
       "      <td>0.6329</td>\n",
       "      <td>0.6329</td>\n",
       "      <td>0.0925</td>\n",
       "    </tr>\n",
       "  </tbody>\n",
       "</table>\n",
       "</div>"
      ],
      "text/plain": [
       "   timestamp(ms)  acceleration_x(g)  acceleration_y(g)  acceleration_z(g)  \\\n",
       "0  1397019805843             0.0809            -0.2223             0.2055   \n",
       "1  1397019805942             0.0505            -0.1454             0.0934   \n",
       "2  1397019806040             0.1952             0.5475            -0.0295   \n",
       "3  1397019806139            -0.0578             0.1958             0.0850   \n",
       "4  1397019806237             0.0800            -0.1689            -0.2530   \n",
       "\n",
       "   roll(rad)  pitch(rad)  yaw(rad)  angular_velocity_x(rad/sec)  \\\n",
       "0     0.4154     -1.0777   -2.4263                      -0.2120   \n",
       "1     0.4797     -1.0745   -2.3135                      -0.0847   \n",
       "2     0.5663     -1.0610   -2.1922                      -0.2483   \n",
       "3     0.6059     -1.0666   -2.1255                      -0.0796   \n",
       "4     0.5836     -1.0347   -2.1527                       0.6329   \n",
       "\n",
       "   angular_velocity_y(rad/sec)  angular_velocity_z(rad/sec)  \n",
       "0                      -0.2120                       0.3575  \n",
       "1                      -0.0847                       0.6287  \n",
       "2                      -0.2483                       0.4558  \n",
       "3                      -0.0796                       0.0817  \n",
       "4                       0.6329                       0.0925  "
      ]
     },
     "execution_count": 4,
     "metadata": {},
     "output_type": "execute_result"
    }
   ],
   "source": [
    "x[0].head(5)"
   ]
  },
  {
   "cell_type": "code",
   "execution_count": 5,
   "metadata": {
    "scrolled": true
   },
   "outputs": [
    {
     "data": {
      "text/html": [
       "<div>\n",
       "<style scoped>\n",
       "    .dataframe tbody tr th:only-of-type {\n",
       "        vertical-align: middle;\n",
       "    }\n",
       "\n",
       "    .dataframe tbody tr th {\n",
       "        vertical-align: top;\n",
       "    }\n",
       "\n",
       "    .dataframe thead th {\n",
       "        text-align: right;\n",
       "    }\n",
       "</style>\n",
       "<table border=\"1\" class=\"dataframe\">\n",
       "  <thead>\n",
       "    <tr style=\"text-align: right;\">\n",
       "      <th></th>\n",
       "      <th>timestamp(ms)</th>\n",
       "      <th>label (0=start 1=end 2=cancel)</th>\n",
       "    </tr>\n",
       "  </thead>\n",
       "  <tbody>\n",
       "    <tr>\n",
       "      <th>0</th>\n",
       "      <td>1397019861612</td>\n",
       "      <td>0</td>\n",
       "    </tr>\n",
       "    <tr>\n",
       "      <th>1</th>\n",
       "      <td>1397019866475</td>\n",
       "      <td>1</td>\n",
       "    </tr>\n",
       "    <tr>\n",
       "      <th>2</th>\n",
       "      <td>1397019887463</td>\n",
       "      <td>0</td>\n",
       "    </tr>\n",
       "    <tr>\n",
       "      <th>3</th>\n",
       "      <td>1397019888154</td>\n",
       "      <td>1</td>\n",
       "    </tr>\n",
       "    <tr>\n",
       "      <th>4</th>\n",
       "      <td>1397020224082</td>\n",
       "      <td>0</td>\n",
       "    </tr>\n",
       "    <tr>\n",
       "      <th>5</th>\n",
       "      <td>1397020224389</td>\n",
       "      <td>1</td>\n",
       "    </tr>\n",
       "    <tr>\n",
       "      <th>6</th>\n",
       "      <td>1397020271356</td>\n",
       "      <td>0</td>\n",
       "    </tr>\n",
       "    <tr>\n",
       "      <th>7</th>\n",
       "      <td>1397020271951</td>\n",
       "      <td>1</td>\n",
       "    </tr>\n",
       "    <tr>\n",
       "      <th>8</th>\n",
       "      <td>1397020352968</td>\n",
       "      <td>0</td>\n",
       "    </tr>\n",
       "    <tr>\n",
       "      <th>9</th>\n",
       "      <td>1397020353332</td>\n",
       "      <td>1</td>\n",
       "    </tr>\n",
       "  </tbody>\n",
       "</table>\n",
       "</div>"
      ],
      "text/plain": [
       "   timestamp(ms)  label (0=start 1=end 2=cancel)\n",
       "0  1397019861612                               0\n",
       "1  1397019866475                               1\n",
       "2  1397019887463                               0\n",
       "3  1397019888154                               1\n",
       "4  1397020224082                               0\n",
       "5  1397020224389                               1\n",
       "6  1397020271356                               0\n",
       "7  1397020271951                               1\n",
       "8  1397020352968                               0\n",
       "9  1397020353332                               1"
      ]
     },
     "execution_count": 5,
     "metadata": {},
     "output_type": "execute_result"
    }
   ],
   "source": [
    "z[0]"
   ]
  },
  {
   "cell_type": "markdown",
   "metadata": {},
   "source": [
    "#### We try to map shake labels to sensor data"
   ]
  },
  {
   "cell_type": "code",
   "execution_count": 6,
   "metadata": {},
   "outputs": [],
   "source": [
    "for i in range(0,3):\n",
    "    x[i]['shake'] = 0\n",
    "    for j in range(0,len(z[i])//2):\n",
    "        t1 = z[i].loc[2*j, 'timestamp(ms)']\n",
    "        t2 = z[i].loc[2*j + 1, 'timestamp(ms)']\n",
    "        x[i].loc[(t1 < x[i]['timestamp(ms)'])  * (x[i]['timestamp(ms)'] < t2),'shake'] = 1\n",
    "        \n",
    "    y[i] = x[i]['shake']\n",
    "    x[i].drop('shake', axis = 1, inplace = True)"
   ]
  },
  {
   "cell_type": "markdown",
   "metadata": {},
   "source": [
    "#### Let's look at the pattern during shake motion"
   ]
  },
  {
   "cell_type": "code",
   "execution_count": 7,
   "metadata": {},
   "outputs": [
    {
     "data": {
      "text/plain": [
       "[<matplotlib.lines.Line2D at 0x1b6b1b96e10>]"
      ]
     },
     "execution_count": 7,
     "metadata": {},
     "output_type": "execute_result"
    },
    {
     "data": {
      "image/png": "[encoded data removed]",
      "text/plain": [
       "<Figure size 432x288 with 1 Axes>"
      ]
     },
     "metadata": {
      "needs_background": "light"
     },
     "output_type": "display_data"
    }
   ],
   "source": [
    "plt.plot(x[0]['timestamp(ms)'], x[0]['roll(rad)'])"
   ]
  },
  {
   "cell_type": "code",
   "execution_count": 8,
   "metadata": {},
   "outputs": [
    {
     "data": {
      "text/plain": [
       "[<matplotlib.lines.Line2D at 0x1b6b1e973c8>]"
      ]
     },
     "execution_count": 8,
     "metadata": {},
     "output_type": "execute_result"
    },
    {
     "data": {
      "image/png": "[encoded data removed]",
      "text/plain": [
       "<Figure size 432x288 with 1 Axes>"
      ]
     },
     "metadata": {
      "needs_background": "light"
     },
     "output_type": "display_data"
    }
   ],
   "source": [
    "plt.plot(x[0]['timestamp(ms)'], x[0]['acceleration_x(g)'])"
   ]
  },
  {
   "cell_type": "code",
   "execution_count": 9,
   "metadata": {},
   "outputs": [
    {
     "data": {
      "text/plain": [
       "[<matplotlib.lines.Line2D at 0x1b6b2147f98>]"
      ]
     },
     "execution_count": 9,
     "metadata": {},
     "output_type": "execute_result"
    },
    {
     "data": {
      "image/png": "[encoded data removed]",
      "text/plain": [
       "<Figure size 432x288 with 1 Axes>"
      ]
     },
     "metadata": {
      "needs_background": "light"
     },
     "output_type": "display_data"
    }
   ],
   "source": [
    "plt.plot(x[0]['timestamp(ms)'], x[0]['angular_velocity_x(rad/sec)'])"
   ]
  },
  {
   "cell_type": "markdown",
   "metadata": {},
   "source": [
    "#### Deriving new parameters as change in angle makes more sense for shake"
   ]
  },
  {
   "cell_type": "code",
   "execution_count": 10,
   "metadata": {},
   "outputs": [],
   "source": [
    "for i in range(0,3):\n",
    "    x[i]['change_roll'] = 0\n",
    "    x[i]['change_pitch'] = 0\n",
    "    x[i]['change_yaw'] = 0\n",
    "    \n",
    "    for j in range(1,len(x[i])):\n",
    "        x[i].loc[j,'change_roll'] = np.abs(x[i].loc[j,'roll(rad)'] - x[i].loc[j-1,'roll(rad)'])\n",
    "        x[i].loc[j,'change_pitch'] = np.abs(x[i].loc[j,'pitch(rad)'] - x[i].loc[j-1,'pitch(rad)'])\n",
    "        x[i].loc[j,'change_yaw'] = np.abs(x[i].loc[j,'yaw(rad)'] - x[i].loc[j-1,'yaw(rad)'])"
   ]
  },
  {
   "cell_type": "code",
   "execution_count": 11,
   "metadata": {},
   "outputs": [
    {
     "data": {
      "text/plain": [
       "[<matplotlib.lines.Line2D at 0x1b6b2abc438>]"
      ]
     },
     "execution_count": 11,
     "metadata": {},
     "output_type": "execute_result"
    },
    {
     "data": {
      "image/png": "[encoded data removed]",
      "text/plain": [
       "<Figure size 432x288 with 1 Axes>"
      ]
     },
     "metadata": {
      "needs_background": "light"
     },
     "output_type": "display_data"
    }
   ],
   "source": [
    "plt.plot(x[0]['timestamp(ms)'], x[0]['change_roll'])"
   ]
  },
  {
   "cell_type": "markdown",
   "metadata": {},
   "source": [
    "#### Now we have all our data points so let's concatenate the data from different devices and perform our analysis."
   ]
  },
  {
   "cell_type": "code",
   "execution_count": 12,
   "metadata": {},
   "outputs": [],
   "source": [
    "x = pd.concat([x[0],x[1],x[2]]).reset_index(drop = True)\n",
    "y = pd.concat([y[0],y[1],y[2]]).reset_index(drop = True)"
   ]
  },
  {
   "cell_type": "code",
   "execution_count": 13,
   "metadata": {},
   "outputs": [],
   "source": [
    "x.drop('timestamp(ms)', axis = 1, inplace = True)"
   ]
  },
  {
   "cell_type": "code",
   "execution_count": 14,
   "metadata": {},
   "outputs": [
    {
     "name": "stdout",
     "output_type": "stream",
     "text": [
      "<class 'pandas.core.frame.DataFrame'>\n",
      "RangeIndex: 163869 entries, 0 to 163868\n",
      "Data columns (total 12 columns):\n",
      " #   Column                       Non-Null Count   Dtype  \n",
      "---  ------                       --------------   -----  \n",
      " 0   acceleration_x(g)            163869 non-null  float64\n",
      " 1   acceleration_y(g)            163869 non-null  float64\n",
      " 2   acceleration_z(g)            163869 non-null  float64\n",
      " 3   roll(rad)                    163869 non-null  float64\n",
      " 4   pitch(rad)                   163869 non-null  float64\n",
      " 5   yaw(rad)                     163869 non-null  float64\n",
      " 6   angular_velocity_x(rad/sec)  163869 non-null  float64\n",
      " 7   angular_velocity_y(rad/sec)  163869 non-null  float64\n",
      " 8   angular_velocity_z(rad/sec)  163869 non-null  float64\n",
      " 9   change_roll                  163869 non-null  float64\n",
      " 10  change_pitch                 163869 non-null  float64\n",
      " 11  change_yaw                   163869 non-null  float64\n",
      "dtypes: float64(12)\n",
      "memory usage: 15.0 MB\n"
     ]
    }
   ],
   "source": [
    "x.info()"
   ]
  },
  {
   "cell_type": "markdown",
   "metadata": {},
   "source": [
    "#### We have no null values!"
   ]
  },
  {
   "cell_type": "code",
   "execution_count": 15,
   "metadata": {},
   "outputs": [
    {
     "data": {
      "text/html": [
       "<div>\n",
       "<style scoped>\n",
       "    .dataframe tbody tr th:only-of-type {\n",
       "        vertical-align: middle;\n",
       "    }\n",
       "\n",
       "    .dataframe tbody tr th {\n",
       "        vertical-align: top;\n",
       "    }\n",
       "\n",
       "    .dataframe thead th {\n",
       "        text-align: right;\n",
       "    }\n",
       "</style>\n",
       "<table border=\"1\" class=\"dataframe\">\n",
       "  <thead>\n",
       "    <tr style=\"text-align: right;\">\n",
       "      <th></th>\n",
       "      <th>acceleration_x(g)</th>\n",
       "      <th>acceleration_y(g)</th>\n",
       "      <th>acceleration_z(g)</th>\n",
       "      <th>roll(rad)</th>\n",
       "      <th>pitch(rad)</th>\n",
       "      <th>yaw(rad)</th>\n",
       "      <th>angular_velocity_x(rad/sec)</th>\n",
       "      <th>angular_velocity_y(rad/sec)</th>\n",
       "      <th>angular_velocity_z(rad/sec)</th>\n",
       "      <th>change_roll</th>\n",
       "      <th>change_pitch</th>\n",
       "      <th>change_yaw</th>\n",
       "    </tr>\n",
       "  </thead>\n",
       "  <tbody>\n",
       "    <tr>\n",
       "      <th>count</th>\n",
       "      <td>163869.000000</td>\n",
       "      <td>163869.000000</td>\n",
       "      <td>163869.000000</td>\n",
       "      <td>163869.000000</td>\n",
       "      <td>163869.000000</td>\n",
       "      <td>163869.000000</td>\n",
       "      <td>163869.000000</td>\n",
       "      <td>163869.000000</td>\n",
       "      <td>163869.000000</td>\n",
       "      <td>163869.000000</td>\n",
       "      <td>163869.000000</td>\n",
       "      <td>163869.000000</td>\n",
       "    </tr>\n",
       "    <tr>\n",
       "      <th>mean</th>\n",
       "      <td>-0.017777</td>\n",
       "      <td>0.022236</td>\n",
       "      <td>0.003558</td>\n",
       "      <td>0.228333</td>\n",
       "      <td>-0.292380</td>\n",
       "      <td>0.816517</td>\n",
       "      <td>0.002184</td>\n",
       "      <td>0.002184</td>\n",
       "      <td>-0.000136</td>\n",
       "      <td>0.033897</td>\n",
       "      <td>0.020022</td>\n",
       "      <td>0.056391</td>\n",
       "    </tr>\n",
       "    <tr>\n",
       "      <th>std</th>\n",
       "      <td>0.293505</td>\n",
       "      <td>0.229011</td>\n",
       "      <td>0.195518</td>\n",
       "      <td>0.597216</td>\n",
       "      <td>0.420155</td>\n",
       "      <td>1.586756</td>\n",
       "      <td>0.737516</td>\n",
       "      <td>0.737516</td>\n",
       "      <td>1.188025</td>\n",
       "      <td>0.216496</td>\n",
       "      <td>0.082373</td>\n",
       "      <td>0.421480</td>\n",
       "    </tr>\n",
       "    <tr>\n",
       "      <th>min</th>\n",
       "      <td>-7.343800</td>\n",
       "      <td>-5.750900</td>\n",
       "      <td>-7.348900</td>\n",
       "      <td>-3.141200</td>\n",
       "      <td>-1.557000</td>\n",
       "      <td>-3.141100</td>\n",
       "      <td>-28.170800</td>\n",
       "      <td>-28.170800</td>\n",
       "      <td>-25.219800</td>\n",
       "      <td>0.000000</td>\n",
       "      <td>0.000000</td>\n",
       "      <td>0.000000</td>\n",
       "    </tr>\n",
       "    <tr>\n",
       "      <th>25%</th>\n",
       "      <td>-0.001100</td>\n",
       "      <td>-0.000900</td>\n",
       "      <td>-0.008300</td>\n",
       "      <td>-0.007300</td>\n",
       "      <td>-0.635500</td>\n",
       "      <td>0.346500</td>\n",
       "      <td>-0.004800</td>\n",
       "      <td>-0.004800</td>\n",
       "      <td>-0.004700</td>\n",
       "      <td>0.000100</td>\n",
       "      <td>0.000100</td>\n",
       "      <td>0.000100</td>\n",
       "    </tr>\n",
       "    <tr>\n",
       "      <th>50%</th>\n",
       "      <td>0.001700</td>\n",
       "      <td>0.002900</td>\n",
       "      <td>-0.001100</td>\n",
       "      <td>0.017300</td>\n",
       "      <td>-0.166800</td>\n",
       "      <td>1.391600</td>\n",
       "      <td>0.000200</td>\n",
       "      <td>0.000200</td>\n",
       "      <td>-0.000100</td>\n",
       "      <td>0.000200</td>\n",
       "      <td>0.000200</td>\n",
       "      <td>0.000200</td>\n",
       "    </tr>\n",
       "    <tr>\n",
       "      <th>75%</th>\n",
       "      <td>0.004800</td>\n",
       "      <td>0.007100</td>\n",
       "      <td>0.009400</td>\n",
       "      <td>0.319400</td>\n",
       "      <td>-0.064400</td>\n",
       "      <td>2.013100</td>\n",
       "      <td>0.004800</td>\n",
       "      <td>0.004800</td>\n",
       "      <td>0.004700</td>\n",
       "      <td>0.002100</td>\n",
       "      <td>0.001900</td>\n",
       "      <td>0.001600</td>\n",
       "    </tr>\n",
       "    <tr>\n",
       "      <th>max</th>\n",
       "      <td>7.666000</td>\n",
       "      <td>8.600600</td>\n",
       "      <td>4.267000</td>\n",
       "      <td>3.139200</td>\n",
       "      <td>1.541600</td>\n",
       "      <td>3.141400</td>\n",
       "      <td>22.085100</td>\n",
       "      <td>22.085100</td>\n",
       "      <td>29.834700</td>\n",
       "      <td>6.181400</td>\n",
       "      <td>1.808000</td>\n",
       "      <td>6.282000</td>\n",
       "    </tr>\n",
       "  </tbody>\n",
       "</table>\n",
       "</div>"
      ],
      "text/plain": [
       "       acceleration_x(g)  acceleration_y(g)  acceleration_z(g)      roll(rad)  \\\n",
       "count      163869.000000      163869.000000      163869.000000  163869.000000   \n",
       "mean           -0.017777           0.022236           0.003558       0.228333   \n",
       "std             0.293505           0.229011           0.195518       0.597216   \n",
       "min            -7.343800          -5.750900          -7.348900      -3.141200   \n",
       "25%            -0.001100          -0.000900          -0.008300      -0.007300   \n",
       "50%             0.001700           0.002900          -0.001100       0.017300   \n",
       "75%             0.004800           0.007100           0.009400       0.319400   \n",
       "max             7.666000           8.600600           4.267000       3.139200   \n",
       "\n",
       "          pitch(rad)       yaw(rad)  angular_velocity_x(rad/sec)  \\\n",
       "count  163869.000000  163869.000000                163869.000000   \n",
       "mean       -0.292380       0.816517                     0.002184   \n",
       "std         0.420155       1.586756                     0.737516   \n",
       "min        -1.557000      -3.141100                   -28.170800   \n",
       "25%        -0.635500       0.346500                    -0.004800   \n",
       "50%        -0.166800       1.391600                     0.000200   \n",
       "75%        -0.064400       2.013100                     0.004800   \n",
       "max         1.541600       3.141400                    22.085100   \n",
       "\n",
       "       angular_velocity_y(rad/sec)  angular_velocity_z(rad/sec)  \\\n",
       "count                163869.000000                163869.000000   \n",
       "mean                      0.002184                    -0.000136   \n",
       "std                       0.737516                     1.188025   \n",
       "min                     -28.170800                   -25.219800   \n",
       "25%                      -0.004800                    -0.004700   \n",
       "50%                       0.000200                    -0.000100   \n",
       "75%                       0.004800                     0.004700   \n",
       "max                      22.085100                    29.834700   \n",
       "\n",
       "         change_roll   change_pitch     change_yaw  \n",
       "count  163869.000000  163869.000000  163869.000000  \n",
       "mean        0.033897       0.020022       0.056391  \n",
       "std         0.216496       0.082373       0.421480  \n",
       "min         0.000000       0.000000       0.000000  \n",
       "25%         0.000100       0.000100       0.000100  \n",
       "50%         0.000200       0.000200       0.000200  \n",
       "75%         0.002100       0.001900       0.001600  \n",
       "max         6.181400       1.808000       6.282000  "
      ]
     },
     "execution_count": 15,
     "metadata": {},
     "output_type": "execute_result"
    }
   ],
   "source": [
    "x.describe()"
   ]
  },
  {
   "cell_type": "code",
   "execution_count": 16,
   "metadata": {},
   "outputs": [
    {
     "data": {
      "image/png": "[encoded data removed]",
      "text/plain": [
       "<Figure size 1440x1080 with 12 Axes>"
      ]
     },
     "metadata": {
      "needs_background": "light"
     },
     "output_type": "display_data"
    }
   ],
   "source": [
    "x.hist(bins = 50, figsize=(20,15))\n",
    "plt.show()"
   ]
  },
  {
   "cell_type": "code",
   "execution_count": 17,
   "metadata": {
    "scrolled": true
   },
   "outputs": [
    {
     "name": "stdout",
     "output_type": "stream",
     "text": [
      "Ratio of no shakes to shakes is : 161323:2546\n"
     ]
    },
    {
     "data": {
      "image/png": "[encoded data removed]",
      "text/plain": [
       "<Figure size 432x288 with 1 Axes>"
      ]
     },
     "metadata": {
      "needs_background": "light"
     },
     "output_type": "display_data"
    }
   ],
   "source": [
    "y.hist()\n",
    "print(\"Ratio of no shakes to shakes is : %s:%s\" %((y == 0).sum(), (y==1).sum()))"
   ]
  },
  {
   "cell_type": "code",
   "execution_count": 18,
   "metadata": {
    "scrolled": true
   },
   "outputs": [
    {
     "data": {
      "text/html": [
       "<div>\n",
       "<style scoped>\n",
       "    .dataframe tbody tr th:only-of-type {\n",
       "        vertical-align: middle;\n",
       "    }\n",
       "\n",
       "    .dataframe tbody tr th {\n",
       "        vertical-align: top;\n",
       "    }\n",
       "\n",
       "    .dataframe thead th {\n",
       "        text-align: right;\n",
       "    }\n",
       "</style>\n",
       "<table border=\"1\" class=\"dataframe\">\n",
       "  <thead>\n",
       "    <tr style=\"text-align: right;\">\n",
       "      <th></th>\n",
       "      <th>acceleration_x(g)</th>\n",
       "      <th>acceleration_y(g)</th>\n",
       "      <th>acceleration_z(g)</th>\n",
       "      <th>roll(rad)</th>\n",
       "      <th>pitch(rad)</th>\n",
       "      <th>yaw(rad)</th>\n",
       "      <th>angular_velocity_x(rad/sec)</th>\n",
       "      <th>angular_velocity_y(rad/sec)</th>\n",
       "      <th>angular_velocity_z(rad/sec)</th>\n",
       "      <th>change_roll</th>\n",
       "      <th>change_pitch</th>\n",
       "      <th>change_yaw</th>\n",
       "      <th>shake</th>\n",
       "    </tr>\n",
       "  </thead>\n",
       "  <tbody>\n",
       "    <tr>\n",
       "      <th>0</th>\n",
       "      <td>0.0809</td>\n",
       "      <td>-0.2223</td>\n",
       "      <td>0.2055</td>\n",
       "      <td>0.4154</td>\n",
       "      <td>-1.0777</td>\n",
       "      <td>-2.4263</td>\n",
       "      <td>-0.2120</td>\n",
       "      <td>-0.2120</td>\n",
       "      <td>0.3575</td>\n",
       "      <td>0.0000</td>\n",
       "      <td>0.0000</td>\n",
       "      <td>0.0000</td>\n",
       "      <td>0</td>\n",
       "    </tr>\n",
       "    <tr>\n",
       "      <th>1</th>\n",
       "      <td>0.0505</td>\n",
       "      <td>-0.1454</td>\n",
       "      <td>0.0934</td>\n",
       "      <td>0.4797</td>\n",
       "      <td>-1.0745</td>\n",
       "      <td>-2.3135</td>\n",
       "      <td>-0.0847</td>\n",
       "      <td>-0.0847</td>\n",
       "      <td>0.6287</td>\n",
       "      <td>0.0643</td>\n",
       "      <td>0.0032</td>\n",
       "      <td>0.1128</td>\n",
       "      <td>0</td>\n",
       "    </tr>\n",
       "    <tr>\n",
       "      <th>2</th>\n",
       "      <td>0.1952</td>\n",
       "      <td>0.5475</td>\n",
       "      <td>-0.0295</td>\n",
       "      <td>0.5663</td>\n",
       "      <td>-1.0610</td>\n",
       "      <td>-2.1922</td>\n",
       "      <td>-0.2483</td>\n",
       "      <td>-0.2483</td>\n",
       "      <td>0.4558</td>\n",
       "      <td>0.0866</td>\n",
       "      <td>0.0135</td>\n",
       "      <td>0.1213</td>\n",
       "      <td>0</td>\n",
       "    </tr>\n",
       "    <tr>\n",
       "      <th>3</th>\n",
       "      <td>-0.0578</td>\n",
       "      <td>0.1958</td>\n",
       "      <td>0.0850</td>\n",
       "      <td>0.6059</td>\n",
       "      <td>-1.0666</td>\n",
       "      <td>-2.1255</td>\n",
       "      <td>-0.0796</td>\n",
       "      <td>-0.0796</td>\n",
       "      <td>0.0817</td>\n",
       "      <td>0.0396</td>\n",
       "      <td>0.0056</td>\n",
       "      <td>0.0667</td>\n",
       "      <td>0</td>\n",
       "    </tr>\n",
       "    <tr>\n",
       "      <th>4</th>\n",
       "      <td>0.0800</td>\n",
       "      <td>-0.1689</td>\n",
       "      <td>-0.2530</td>\n",
       "      <td>0.5836</td>\n",
       "      <td>-1.0347</td>\n",
       "      <td>-2.1527</td>\n",
       "      <td>0.6329</td>\n",
       "      <td>0.6329</td>\n",
       "      <td>0.0925</td>\n",
       "      <td>0.0223</td>\n",
       "      <td>0.0319</td>\n",
       "      <td>0.0272</td>\n",
       "      <td>0</td>\n",
       "    </tr>\n",
       "    <tr>\n",
       "      <th>...</th>\n",
       "      <td>...</td>\n",
       "      <td>...</td>\n",
       "      <td>...</td>\n",
       "      <td>...</td>\n",
       "      <td>...</td>\n",
       "      <td>...</td>\n",
       "      <td>...</td>\n",
       "      <td>...</td>\n",
       "      <td>...</td>\n",
       "      <td>...</td>\n",
       "      <td>...</td>\n",
       "      <td>...</td>\n",
       "      <td>...</td>\n",
       "    </tr>\n",
       "    <tr>\n",
       "      <th>163864</th>\n",
       "      <td>0.0126</td>\n",
       "      <td>-0.0710</td>\n",
       "      <td>0.1007</td>\n",
       "      <td>-0.1095</td>\n",
       "      <td>0.0656</td>\n",
       "      <td>-2.1065</td>\n",
       "      <td>0.5349</td>\n",
       "      <td>0.5349</td>\n",
       "      <td>0.4683</td>\n",
       "      <td>0.0385</td>\n",
       "      <td>0.0268</td>\n",
       "      <td>0.0792</td>\n",
       "      <td>0</td>\n",
       "    </tr>\n",
       "    <tr>\n",
       "      <th>163865</th>\n",
       "      <td>-0.1466</td>\n",
       "      <td>0.0341</td>\n",
       "      <td>-0.3697</td>\n",
       "      <td>-0.0612</td>\n",
       "      <td>0.1041</td>\n",
       "      <td>-1.9838</td>\n",
       "      <td>0.1034</td>\n",
       "      <td>0.1034</td>\n",
       "      <td>1.2189</td>\n",
       "      <td>0.0483</td>\n",
       "      <td>0.0385</td>\n",
       "      <td>0.1227</td>\n",
       "      <td>0</td>\n",
       "    </tr>\n",
       "    <tr>\n",
       "      <th>163866</th>\n",
       "      <td>-0.0240</td>\n",
       "      <td>-0.0053</td>\n",
       "      <td>-0.1789</td>\n",
       "      <td>-0.1029</td>\n",
       "      <td>0.1123</td>\n",
       "      <td>-1.9030</td>\n",
       "      <td>0.4614</td>\n",
       "      <td>0.4614</td>\n",
       "      <td>0.8946</td>\n",
       "      <td>0.0417</td>\n",
       "      <td>0.0082</td>\n",
       "      <td>0.0808</td>\n",
       "      <td>0</td>\n",
       "    </tr>\n",
       "    <tr>\n",
       "      <th>163867</th>\n",
       "      <td>0.0314</td>\n",
       "      <td>0.0460</td>\n",
       "      <td>0.2010</td>\n",
       "      <td>-0.0142</td>\n",
       "      <td>0.2034</td>\n",
       "      <td>-1.7452</td>\n",
       "      <td>0.4157</td>\n",
       "      <td>0.4157</td>\n",
       "      <td>1.6121</td>\n",
       "      <td>0.0887</td>\n",
       "      <td>0.0911</td>\n",
       "      <td>0.1578</td>\n",
       "      <td>0</td>\n",
       "    </tr>\n",
       "    <tr>\n",
       "      <th>163868</th>\n",
       "      <td>-0.0441</td>\n",
       "      <td>0.0788</td>\n",
       "      <td>0.2697</td>\n",
       "      <td>-0.0224</td>\n",
       "      <td>0.1401</td>\n",
       "      <td>-1.6347</td>\n",
       "      <td>0.0652</td>\n",
       "      <td>0.0652</td>\n",
       "      <td>0.1844</td>\n",
       "      <td>0.0082</td>\n",
       "      <td>0.0633</td>\n",
       "      <td>0.1105</td>\n",
       "      <td>0</td>\n",
       "    </tr>\n",
       "  </tbody>\n",
       "</table>\n",
       "<p>163869 rows × 13 columns</p>\n",
       "</div>"
      ],
      "text/plain": [
       "        acceleration_x(g)  acceleration_y(g)  acceleration_z(g)  roll(rad)  \\\n",
       "0                  0.0809            -0.2223             0.2055     0.4154   \n",
       "1                  0.0505            -0.1454             0.0934     0.4797   \n",
       "2                  0.1952             0.5475            -0.0295     0.5663   \n",
       "3                 -0.0578             0.1958             0.0850     0.6059   \n",
       "4                  0.0800            -0.1689            -0.2530     0.5836   \n",
       "...                   ...                ...                ...        ...   \n",
       "163864             0.0126            -0.0710             0.1007    -0.1095   \n",
       "163865            -0.1466             0.0341            -0.3697    -0.0612   \n",
       "163866            -0.0240            -0.0053            -0.1789    -0.1029   \n",
       "163867             0.0314             0.0460             0.2010    -0.0142   \n",
       "163868            -0.0441             0.0788             0.2697    -0.0224   \n",
       "\n",
       "        pitch(rad)  yaw(rad)  angular_velocity_x(rad/sec)  \\\n",
       "0          -1.0777   -2.4263                      -0.2120   \n",
       "1          -1.0745   -2.3135                      -0.0847   \n",
       "2          -1.0610   -2.1922                      -0.2483   \n",
       "3          -1.0666   -2.1255                      -0.0796   \n",
       "4          -1.0347   -2.1527                       0.6329   \n",
       "...            ...       ...                          ...   \n",
       "163864      0.0656   -2.1065                       0.5349   \n",
       "163865      0.1041   -1.9838                       0.1034   \n",
       "163866      0.1123   -1.9030                       0.4614   \n",
       "163867      0.2034   -1.7452                       0.4157   \n",
       "163868      0.1401   -1.6347                       0.0652   \n",
       "\n",
       "        angular_velocity_y(rad/sec)  angular_velocity_z(rad/sec)  change_roll  \\\n",
       "0                           -0.2120                       0.3575       0.0000   \n",
       "1                           -0.0847                       0.6287       0.0643   \n",
       "2                           -0.2483                       0.4558       0.0866   \n",
       "3                           -0.0796                       0.0817       0.0396   \n",
       "4                            0.6329                       0.0925       0.0223   \n",
       "...                             ...                          ...          ...   \n",
       "163864                       0.5349                       0.4683       0.0385   \n",
       "163865                       0.1034                       1.2189       0.0483   \n",
       "163866                       0.4614                       0.8946       0.0417   \n",
       "163867                       0.4157                       1.6121       0.0887   \n",
       "163868                       0.0652                       0.1844       0.0082   \n",
       "\n",
       "        change_pitch  change_yaw  shake  \n",
       "0             0.0000      0.0000      0  \n",
       "1             0.0032      0.1128      0  \n",
       "2             0.0135      0.1213      0  \n",
       "3             0.0056      0.0667      0  \n",
       "4             0.0319      0.0272      0  \n",
       "...              ...         ...    ...  \n",
       "163864        0.0268      0.0792      0  \n",
       "163865        0.0385      0.1227      0  \n",
       "163866        0.0082      0.0808      0  \n",
       "163867        0.0911      0.1578      0  \n",
       "163868        0.0633      0.1105      0  \n",
       "\n",
       "[163869 rows x 13 columns]"
      ]
     },
     "execution_count": 18,
     "metadata": {},
     "output_type": "execute_result"
    }
   ],
   "source": [
    "data = pd.concat([x,y], axis = 1)\n",
    "data"
   ]
  },
  {
   "cell_type": "code",
   "execution_count": 19,
   "metadata": {},
   "outputs": [
    {
     "name": "stdout",
     "output_type": "stream",
     "text": [
      "Percentage of shake instances in our data =  0.015536800737174207\n"
     ]
    }
   ],
   "source": [
    "print(\"Percentage of shake instances in our data = \", data['shake'].sum()/len(data))"
   ]
  },
  {
   "cell_type": "markdown",
   "metadata": {},
   "source": [
    "#### We see that the instances of shakes are minority in our data, hence it's an imbalanced dataset. We'll be using techniques which are necessary for dealing with imbalanced dataset so that we get a good representation of both classes of data."
   ]
  },
  {
   "cell_type": "markdown",
   "metadata": {},
   "source": [
    "### Stratified sampling"
   ]
  },
  {
   "cell_type": "markdown",
   "metadata": {},
   "source": [
    "#### For splitting our data into train/test set we use stratified sampling to get similar distribution of shake vs non shake in both"
   ]
  },
  {
   "cell_type": "code",
   "execution_count": 20,
   "metadata": {},
   "outputs": [
    {
     "name": "stdout",
     "output_type": "stream",
     "text": [
      "Train: [ 82408 126796 101216 ...  31157  56960  10803] Test: [128186 125029  73044 ... 122956  78285     66]\n"
     ]
    }
   ],
   "source": [
    "from sklearn.model_selection import StratifiedShuffleSplit\n",
    "split = StratifiedShuffleSplit(n_splits=1, test_size=0.2, random_state=42)\n",
    "\n",
    "for train_index, test_index in split.split(x, y):\n",
    "    print(\"Train:\", train_index, \"Test:\", test_index)\n",
    "    X_train, X_test = x.iloc[train_index], x.iloc[test_index]\n",
    "    y_train, y_test = y.iloc[train_index], y.iloc[test_index]"
   ]
  },
  {
   "cell_type": "code",
   "execution_count": 21,
   "metadata": {},
   "outputs": [
    {
     "name": "stdout",
     "output_type": "stream",
     "text": [
      "Percentage of shake instances in Train set =  0.015538350051489378\n"
     ]
    }
   ],
   "source": [
    "print(\"Percentage of shake instances in Train set = \", y_train.sum()/len(y_train))"
   ]
  },
  {
   "cell_type": "code",
   "execution_count": 22,
   "metadata": {},
   "outputs": [
    {
     "name": "stdout",
     "output_type": "stream",
     "text": [
      "Percentage of shake instances in Test set =  0.015530603527186184\n"
     ]
    }
   ],
   "source": [
    "print(\"Percentage of shake instances in Test set = \", y_test.sum()/len(y_test))"
   ]
  },
  {
   "cell_type": "code",
   "execution_count": 23,
   "metadata": {},
   "outputs": [
    {
     "data": {
      "text/html": [
       "<div>\n",
       "<style scoped>\n",
       "    .dataframe tbody tr th:only-of-type {\n",
       "        vertical-align: middle;\n",
       "    }\n",
       "\n",
       "    .dataframe tbody tr th {\n",
       "        vertical-align: top;\n",
       "    }\n",
       "\n",
       "    .dataframe thead th {\n",
       "        text-align: right;\n",
       "    }\n",
       "</style>\n",
       "<table border=\"1\" class=\"dataframe\">\n",
       "  <thead>\n",
       "    <tr style=\"text-align: right;\">\n",
       "      <th></th>\n",
       "      <th>acceleration_x(g)</th>\n",
       "      <th>acceleration_y(g)</th>\n",
       "      <th>acceleration_z(g)</th>\n",
       "      <th>roll(rad)</th>\n",
       "      <th>pitch(rad)</th>\n",
       "      <th>yaw(rad)</th>\n",
       "      <th>angular_velocity_x(rad/sec)</th>\n",
       "      <th>angular_velocity_y(rad/sec)</th>\n",
       "      <th>angular_velocity_z(rad/sec)</th>\n",
       "      <th>change_roll</th>\n",
       "      <th>change_pitch</th>\n",
       "      <th>change_yaw</th>\n",
       "      <th>shake</th>\n",
       "    </tr>\n",
       "  </thead>\n",
       "  <tbody>\n",
       "    <tr>\n",
       "      <th>82408</th>\n",
       "      <td>0.0584</td>\n",
       "      <td>-0.0296</td>\n",
       "      <td>-0.0052</td>\n",
       "      <td>-0.1106</td>\n",
       "      <td>0.0828</td>\n",
       "      <td>-2.8161</td>\n",
       "      <td>-0.0005</td>\n",
       "      <td>-0.0005</td>\n",
       "      <td>0.0018</td>\n",
       "      <td>0.0139</td>\n",
       "      <td>0.0050</td>\n",
       "      <td>0.0012</td>\n",
       "      <td>0</td>\n",
       "    </tr>\n",
       "    <tr>\n",
       "      <th>126796</th>\n",
       "      <td>0.0018</td>\n",
       "      <td>-0.0044</td>\n",
       "      <td>0.0096</td>\n",
       "      <td>0.0052</td>\n",
       "      <td>-0.1007</td>\n",
       "      <td>2.0316</td>\n",
       "      <td>-0.0050</td>\n",
       "      <td>-0.0050</td>\n",
       "      <td>-0.0019</td>\n",
       "      <td>0.0000</td>\n",
       "      <td>0.0003</td>\n",
       "      <td>0.0004</td>\n",
       "      <td>0</td>\n",
       "    </tr>\n",
       "    <tr>\n",
       "      <th>101216</th>\n",
       "      <td>0.0016</td>\n",
       "      <td>-0.0026</td>\n",
       "      <td>0.0133</td>\n",
       "      <td>-0.0072</td>\n",
       "      <td>0.0245</td>\n",
       "      <td>-1.6426</td>\n",
       "      <td>0.0100</td>\n",
       "      <td>0.0100</td>\n",
       "      <td>-0.0093</td>\n",
       "      <td>0.0001</td>\n",
       "      <td>0.0001</td>\n",
       "      <td>0.0002</td>\n",
       "      <td>0</td>\n",
       "    </tr>\n",
       "    <tr>\n",
       "      <th>156170</th>\n",
       "      <td>-0.0263</td>\n",
       "      <td>0.0087</td>\n",
       "      <td>0.1012</td>\n",
       "      <td>-0.1677</td>\n",
       "      <td>-0.1192</td>\n",
       "      <td>-0.6778</td>\n",
       "      <td>-0.1109</td>\n",
       "      <td>-0.1109</td>\n",
       "      <td>0.0110</td>\n",
       "      <td>0.0008</td>\n",
       "      <td>0.0046</td>\n",
       "      <td>0.0003</td>\n",
       "      <td>0</td>\n",
       "    </tr>\n",
       "    <tr>\n",
       "      <th>37899</th>\n",
       "      <td>0.0012</td>\n",
       "      <td>0.0049</td>\n",
       "      <td>-0.0072</td>\n",
       "      <td>0.3075</td>\n",
       "      <td>-0.5767</td>\n",
       "      <td>1.2211</td>\n",
       "      <td>0.0019</td>\n",
       "      <td>0.0019</td>\n",
       "      <td>0.0037</td>\n",
       "      <td>0.0002</td>\n",
       "      <td>0.0001</td>\n",
       "      <td>0.0000</td>\n",
       "      <td>0</td>\n",
       "    </tr>\n",
       "    <tr>\n",
       "      <th>...</th>\n",
       "      <td>...</td>\n",
       "      <td>...</td>\n",
       "      <td>...</td>\n",
       "      <td>...</td>\n",
       "      <td>...</td>\n",
       "      <td>...</td>\n",
       "      <td>...</td>\n",
       "      <td>...</td>\n",
       "      <td>...</td>\n",
       "      <td>...</td>\n",
       "      <td>...</td>\n",
       "      <td>...</td>\n",
       "      <td>...</td>\n",
       "    </tr>\n",
       "    <tr>\n",
       "      <th>47355</th>\n",
       "      <td>0.0017</td>\n",
       "      <td>0.0028</td>\n",
       "      <td>-0.0081</td>\n",
       "      <td>0.3093</td>\n",
       "      <td>-0.5758</td>\n",
       "      <td>1.2059</td>\n",
       "      <td>-0.0006</td>\n",
       "      <td>-0.0006</td>\n",
       "      <td>-0.0003</td>\n",
       "      <td>0.0001</td>\n",
       "      <td>0.0000</td>\n",
       "      <td>0.0001</td>\n",
       "      <td>0</td>\n",
       "    </tr>\n",
       "    <tr>\n",
       "      <th>12389</th>\n",
       "      <td>-0.0003</td>\n",
       "      <td>0.0080</td>\n",
       "      <td>-0.0114</td>\n",
       "      <td>0.3195</td>\n",
       "      <td>-0.6408</td>\n",
       "      <td>1.4875</td>\n",
       "      <td>0.0028</td>\n",
       "      <td>0.0028</td>\n",
       "      <td>-0.0048</td>\n",
       "      <td>0.0002</td>\n",
       "      <td>0.0001</td>\n",
       "      <td>0.0001</td>\n",
       "      <td>0</td>\n",
       "    </tr>\n",
       "    <tr>\n",
       "      <th>31157</th>\n",
       "      <td>0.0010</td>\n",
       "      <td>0.0037</td>\n",
       "      <td>-0.0079</td>\n",
       "      <td>0.3139</td>\n",
       "      <td>-0.6147</td>\n",
       "      <td>0.8087</td>\n",
       "      <td>0.0032</td>\n",
       "      <td>0.0032</td>\n",
       "      <td>0.0027</td>\n",
       "      <td>0.0004</td>\n",
       "      <td>0.0001</td>\n",
       "      <td>0.0005</td>\n",
       "      <td>0</td>\n",
       "    </tr>\n",
       "    <tr>\n",
       "      <th>56960</th>\n",
       "      <td>0.0040</td>\n",
       "      <td>0.0017</td>\n",
       "      <td>0.0033</td>\n",
       "      <td>1.3747</td>\n",
       "      <td>-0.6633</td>\n",
       "      <td>1.9908</td>\n",
       "      <td>-0.0057</td>\n",
       "      <td>-0.0057</td>\n",
       "      <td>-0.0052</td>\n",
       "      <td>0.0004</td>\n",
       "      <td>0.0001</td>\n",
       "      <td>0.0002</td>\n",
       "      <td>0</td>\n",
       "    </tr>\n",
       "    <tr>\n",
       "      <th>10803</th>\n",
       "      <td>0.0031</td>\n",
       "      <td>0.0084</td>\n",
       "      <td>-0.0090</td>\n",
       "      <td>0.3206</td>\n",
       "      <td>-0.6428</td>\n",
       "      <td>1.4856</td>\n",
       "      <td>0.0052</td>\n",
       "      <td>0.0052</td>\n",
       "      <td>-0.0068</td>\n",
       "      <td>0.0001</td>\n",
       "      <td>0.0001</td>\n",
       "      <td>0.0000</td>\n",
       "      <td>0</td>\n",
       "    </tr>\n",
       "  </tbody>\n",
       "</table>\n",
       "<p>131095 rows × 13 columns</p>\n",
       "</div>"
      ],
      "text/plain": [
       "        acceleration_x(g)  acceleration_y(g)  acceleration_z(g)  roll(rad)  \\\n",
       "82408              0.0584            -0.0296            -0.0052    -0.1106   \n",
       "126796             0.0018            -0.0044             0.0096     0.0052   \n",
       "101216             0.0016            -0.0026             0.0133    -0.0072   \n",
       "156170            -0.0263             0.0087             0.1012    -0.1677   \n",
       "37899              0.0012             0.0049            -0.0072     0.3075   \n",
       "...                   ...                ...                ...        ...   \n",
       "47355              0.0017             0.0028            -0.0081     0.3093   \n",
       "12389             -0.0003             0.0080            -0.0114     0.3195   \n",
       "31157              0.0010             0.0037            -0.0079     0.3139   \n",
       "56960              0.0040             0.0017             0.0033     1.3747   \n",
       "10803              0.0031             0.0084            -0.0090     0.3206   \n",
       "\n",
       "        pitch(rad)  yaw(rad)  angular_velocity_x(rad/sec)  \\\n",
       "82408       0.0828   -2.8161                      -0.0005   \n",
       "126796     -0.1007    2.0316                      -0.0050   \n",
       "101216      0.0245   -1.6426                       0.0100   \n",
       "156170     -0.1192   -0.6778                      -0.1109   \n",
       "37899      -0.5767    1.2211                       0.0019   \n",
       "...            ...       ...                          ...   \n",
       "47355      -0.5758    1.2059                      -0.0006   \n",
       "12389      -0.6408    1.4875                       0.0028   \n",
       "31157      -0.6147    0.8087                       0.0032   \n",
       "56960      -0.6633    1.9908                      -0.0057   \n",
       "10803      -0.6428    1.4856                       0.0052   \n",
       "\n",
       "        angular_velocity_y(rad/sec)  angular_velocity_z(rad/sec)  change_roll  \\\n",
       "82408                       -0.0005                       0.0018       0.0139   \n",
       "126796                      -0.0050                      -0.0019       0.0000   \n",
       "101216                       0.0100                      -0.0093       0.0001   \n",
       "156170                      -0.1109                       0.0110       0.0008   \n",
       "37899                        0.0019                       0.0037       0.0002   \n",
       "...                             ...                          ...          ...   \n",
       "47355                       -0.0006                      -0.0003       0.0001   \n",
       "12389                        0.0028                      -0.0048       0.0002   \n",
       "31157                        0.0032                       0.0027       0.0004   \n",
       "56960                       -0.0057                      -0.0052       0.0004   \n",
       "10803                        0.0052                      -0.0068       0.0001   \n",
       "\n",
       "        change_pitch  change_yaw  shake  \n",
       "82408         0.0050      0.0012      0  \n",
       "126796        0.0003      0.0004      0  \n",
       "101216        0.0001      0.0002      0  \n",
       "156170        0.0046      0.0003      0  \n",
       "37899         0.0001      0.0000      0  \n",
       "...              ...         ...    ...  \n",
       "47355         0.0000      0.0001      0  \n",
       "12389         0.0001      0.0001      0  \n",
       "31157         0.0001      0.0005      0  \n",
       "56960         0.0001      0.0002      0  \n",
       "10803         0.0001      0.0000      0  \n",
       "\n",
       "[131095 rows x 13 columns]"
      ]
     },
     "execution_count": 23,
     "metadata": {},
     "output_type": "execute_result"
    }
   ],
   "source": [
    "data_train = pd.concat([X_train,y_train], axis = 1)\n",
    "data_train"
   ]
  },
  {
   "cell_type": "markdown",
   "metadata": {},
   "source": [
    "### Correlation Plot"
   ]
  },
  {
   "cell_type": "code",
   "execution_count": 24,
   "metadata": {},
   "outputs": [
    {
     "data": {
      "text/plain": [
       "<matplotlib.axes._subplots.AxesSubplot at 0x1b6b75b4160>"
      ]
     },
     "execution_count": 24,
     "metadata": {},
     "output_type": "execute_result"
    },
    {
     "data": {
      "image/png": "[encoded data removed]",
      "text/plain": [
       "<Figure size 1008x864 with 2 Axes>"
      ]
     },
     "metadata": {
      "needs_background": "light"
     },
     "output_type": "display_data"
    }
   ],
   "source": [
    "colormap = plt.cm.RdBu\n",
    "plt.figure(figsize = (14, 12))\n",
    "plt.title('Pearson correlation of features', y = 1.05, size = 15)\n",
    "sns.heatmap(data_train.astype(float).corr(), linewidths = 0.1, vmax = 1.0, square = True, cmap = colormap, linecolor = 'white', annot = True)"
   ]
  },
  {
   "cell_type": "code",
   "execution_count": 25,
   "metadata": {},
   "outputs": [
    {
     "data": {
      "text/plain": [
       "acceleration_x(g)             -0.071210\n",
       "acceleration_y(g)              0.297007\n",
       "acceleration_z(g)             -0.050190\n",
       "roll(rad)                     -0.028239\n",
       "pitch(rad)                     0.113527\n",
       "yaw(rad)                      -0.076578\n",
       "angular_velocity_x(rad/sec)   -0.011490\n",
       "angular_velocity_y(rad/sec)   -0.011490\n",
       "angular_velocity_z(rad/sec)    0.038763\n",
       "change_roll                    0.312337\n",
       "change_pitch                   0.393817\n",
       "change_yaw                     0.232478\n",
       "shake                          1.000000\n",
       "Name: shake, dtype: float64"
      ]
     },
     "execution_count": 25,
     "metadata": {},
     "output_type": "execute_result"
    }
   ],
   "source": [
    "data_train.astype(float).corr()['shake']"
   ]
  },
  {
   "cell_type": "markdown",
   "metadata": {},
   "source": [
    "#### We observe that our derived variables (change) are fairly correlated with shake."
   ]
  },
  {
   "cell_type": "markdown",
   "metadata": {},
   "source": [
    "#### We observe that angular_velocity_x and angular_velocity_y have correlation 1. Checking the data and above tables we observe that they have the same data so we can delete one of them."
   ]
  },
  {
   "cell_type": "code",
   "execution_count": 26,
   "metadata": {},
   "outputs": [],
   "source": [
    "del X_train['angular_velocity_y(rad/sec)']\n",
    "del X_test['angular_velocity_y(rad/sec)']"
   ]
  },
  {
   "cell_type": "markdown",
   "metadata": {},
   "source": [
    "## Classification"
   ]
  },
  {
   "cell_type": "code",
   "execution_count": 27,
   "metadata": {},
   "outputs": [],
   "source": [
    "from sklearn.model_selection import cross_val_score, cross_validate\n",
    "from sklearn.metrics import confusion_matrix\n",
    "from sklearn.metrics import precision_score, recall_score\n",
    "from sklearn.metrics import f1_score\n",
    "from sklearn.pipeline import make_pipeline\n",
    "from sklearn.preprocessing import StandardScaler\n",
    "from sklearn.model_selection import StratifiedKFold\n",
    "from sklearn.base import clone\n",
    "\n",
    "from sklearn.linear_model import LogisticRegression\n",
    "from sklearn.tree import DecisionTreeClassifier\n",
    "from sklearn.ensemble import RandomForestClassifier\n",
    "from sklearn.svm import SVC\n",
    "from sklearn.neighbors import KNeighborsClassifier\n",
    "from sklearn.ensemble import ExtraTreesClassifier\n",
    "from sklearn.linear_model import SGDClassifier\n",
    "\n",
    "from sklearn.model_selection import GridSearchCV"
   ]
  },
  {
   "cell_type": "code",
   "execution_count": 28,
   "metadata": {},
   "outputs": [],
   "source": [
    "lr = LogisticRegression()\n",
    "dt = DecisionTreeClassifier(random_state = 1)\n",
    "rf = RandomForestClassifier(random_state = 1)\n",
    "svc = make_pipeline(StandardScaler(), SVC(probability = True))\n",
    "knn = make_pipeline(StandardScaler(), KNeighborsClassifier())\n",
    "exttree = ExtraTreesClassifier(random_state=1)\n",
    "sgd_clf = make_pipeline(StandardScaler(), SGDClassifier(random_state=1))"
   ]
  },
  {
   "cell_type": "code",
   "execution_count": 29,
   "metadata": {},
   "outputs": [],
   "source": [
    "estimators = [lr, dt, rf, svc, knn, exttree, sgd_clf]\n",
    "labels = ['Linear Regression', \n",
    "            'Decision Tree', \n",
    "            'Random Forest Classifier', \n",
    "            'SVC', \n",
    "            'k Nearest Neighbour',\n",
    "            'Extra Tree Classifier']"
   ]
  },
  {
   "cell_type": "code",
   "execution_count": 30,
   "metadata": {},
   "outputs": [],
   "source": [
    "def estimate(x_train, y_train, estimators, labels):\n",
    "    df_result = pd.DataFrame()\n",
    "    \n",
    "    row_index = 0\n",
    "    for est, est_name in zip(estimators, labels):\n",
    "        skfolds = StratifiedKFold(n_splits=3, random_state=42)\n",
    "        cv_results = []\n",
    "        \n",
    "        for train_index, test_index in skfolds.split(x_train, y_train):\n",
    "            clone_clf = clone(est)\n",
    "\n",
    "            x_train_folds = x_train.iloc[train_index]\n",
    "            y_train_folds = y_train.iloc[train_index]\n",
    "            x_test_fold = x_train.iloc[test_index]\n",
    "            y_test_fold = y_train.iloc[test_index]\n",
    "            clone_clf.fit(x_train_folds, y_train_folds)\n",
    "            \n",
    "            y_pred = clone_clf.predict(x_test_fold)\n",
    "            n_correct = sum(y_pred == y_test_fold)\n",
    "            cv_results.append(n_correct / len(y_pred))\n",
    "        \n",
    "        df_result.loc[row_index, 'Model name'] = est_name\n",
    "        df_result.loc[row_index, 'Test_accuracy'] = np.mean(cv_results)\n",
    "        df_result.loc[row_index, 'Standard Deviation'] = np.std(cv_results)\n",
    "        \n",
    "        row_index +=1\n",
    "        \n",
    "    df_result.sort_values(by=['Test_accuracy'], ascending = False, inplace = True, ignore_index = True)\n",
    "    \n",
    "    return df_result"
   ]
  },
  {
   "cell_type": "code",
   "execution_count": 31,
   "metadata": {},
   "outputs": [
    {
     "data": {
      "text/html": [
       "<div>\n",
       "<style scoped>\n",
       "    .dataframe tbody tr th:only-of-type {\n",
       "        vertical-align: middle;\n",
       "    }\n",
       "\n",
       "    .dataframe tbody tr th {\n",
       "        vertical-align: top;\n",
       "    }\n",
       "\n",
       "    .dataframe thead th {\n",
       "        text-align: right;\n",
       "    }\n",
       "</style>\n",
       "<table border=\"1\" class=\"dataframe\">\n",
       "  <thead>\n",
       "    <tr style=\"text-align: right;\">\n",
       "      <th></th>\n",
       "      <th>Model name</th>\n",
       "      <th>Test_accuracy</th>\n",
       "      <th>Standard Deviation</th>\n",
       "    </tr>\n",
       "  </thead>\n",
       "  <tbody>\n",
       "    <tr>\n",
       "      <th>0</th>\n",
       "      <td>Random Forest Classifier</td>\n",
       "      <td>0.987276</td>\n",
       "      <td>0.000211</td>\n",
       "    </tr>\n",
       "    <tr>\n",
       "      <th>1</th>\n",
       "      <td>Extra Tree Classifier</td>\n",
       "      <td>0.987231</td>\n",
       "      <td>0.000123</td>\n",
       "    </tr>\n",
       "    <tr>\n",
       "      <th>2</th>\n",
       "      <td>k Nearest Neighbour</td>\n",
       "      <td>0.986430</td>\n",
       "      <td>0.000230</td>\n",
       "    </tr>\n",
       "    <tr>\n",
       "      <th>3</th>\n",
       "      <td>Linear Regression</td>\n",
       "      <td>0.985263</td>\n",
       "      <td>0.000329</td>\n",
       "    </tr>\n",
       "    <tr>\n",
       "      <th>4</th>\n",
       "      <td>SVC</td>\n",
       "      <td>0.984744</td>\n",
       "      <td>0.000181</td>\n",
       "    </tr>\n",
       "    <tr>\n",
       "      <th>5</th>\n",
       "      <td>Decision Tree</td>\n",
       "      <td>0.980167</td>\n",
       "      <td>0.000560</td>\n",
       "    </tr>\n",
       "  </tbody>\n",
       "</table>\n",
       "</div>"
      ],
      "text/plain": [
       "                 Model name  Test_accuracy  Standard Deviation\n",
       "0  Random Forest Classifier       0.987276            0.000211\n",
       "1     Extra Tree Classifier       0.987231            0.000123\n",
       "2       k Nearest Neighbour       0.986430            0.000230\n",
       "3         Linear Regression       0.985263            0.000329\n",
       "4                       SVC       0.984744            0.000181\n",
       "5             Decision Tree       0.980167            0.000560"
      ]
     },
     "execution_count": 31,
     "metadata": {},
     "output_type": "execute_result"
    }
   ],
   "source": [
    "estimate(X_train, y_train, estimators, labels)"
   ]
  },
  {
   "cell_type": "markdown",
   "metadata": {},
   "source": [
    "#### Observe that any model would have a very high accuracy since we are dealing with imbalanced dataset. So accuracy is not a very good measure to measure our performance. We will use other performance metrics too."
   ]
  },
  {
   "cell_type": "markdown",
   "metadata": {},
   "source": [
    "### Precision/Recall/F1-score"
   ]
  },
  {
   "cell_type": "code",
   "execution_count": 32,
   "metadata": {},
   "outputs": [],
   "source": [
    "def estimate(x_train, y_train, estimators, labels):\n",
    "    df_result = pd.DataFrame()\n",
    "    mat = {}\n",
    "    row_index = 0\n",
    "    for est, est_name in zip(estimators, labels):\n",
    "        skfolds = StratifiedKFold(n_splits=3, random_state=42)\n",
    "        cv_results = []\n",
    "        precision_results = []\n",
    "        recall_results = []\n",
    "        f1_results = []\n",
    "        conf_mat = []\n",
    "        \n",
    "        for train_index, test_index in skfolds.split(x_train, y_train):\n",
    "            clone_clf = clone(est)\n",
    "\n",
    "            x_train_folds = x_train.iloc[train_index]\n",
    "            y_train_folds = y_train.iloc[train_index]\n",
    "            x_test_fold = x_train.iloc[test_index]\n",
    "            y_test_fold = y_train.iloc[test_index]\n",
    "            clone_clf.fit(x_train_folds, y_train_folds)\n",
    "            \n",
    "            y_pred = clone_clf.predict(x_test_fold)\n",
    "            n_correct = sum(y_pred == y_test_fold)\n",
    "            cv_results.append(n_correct / len(y_pred))\n",
    "            precision_results.append(precision_score(y_test_fold, y_pred))\n",
    "            recall_results.append(recall_score(y_test_fold, y_pred))\n",
    "            f1_results.append(f1_score(y_test_fold, y_pred))\n",
    "            \n",
    "            conf_mat.append(confusion_matrix(y_test_fold, y_pred))\n",
    "        \n",
    "        df_result.loc[row_index, 'Model name'] = est_name\n",
    "        df_result.loc[row_index, 'Test_accuracy'] = np.mean(cv_results)\n",
    "        df_result.loc[row_index, 'Precision_score'] = np.mean(precision_results)\n",
    "        df_result.loc[row_index, 'Recall_score'] = np.mean(recall_results)\n",
    "        df_result.loc[row_index, 'F1_score'] = np.mean(f1_results)\n",
    "        df_result.loc[row_index, 'Standard Deviation'] = np.std(cv_results)\n",
    "        \n",
    "        mat[est_name] = conf_mat        \n",
    "        \n",
    "        row_index +=1\n",
    "        \n",
    "    df_result.sort_values(by=['Test_accuracy'], ascending = False, inplace = True, ignore_index = True)\n",
    "    \n",
    "    return df_result, mat"
   ]
  },
  {
   "cell_type": "code",
   "execution_count": 33,
   "metadata": {},
   "outputs": [],
   "source": [
    "df_result, mat = estimate(X_train, y_train, estimators, labels)"
   ]
  },
  {
   "cell_type": "code",
   "execution_count": 46,
   "metadata": {},
   "outputs": [
    {
     "data": {
      "text/html": [
       "<div>\n",
       "<style scoped>\n",
       "    .dataframe tbody tr th:only-of-type {\n",
       "        vertical-align: middle;\n",
       "    }\n",
       "\n",
       "    .dataframe tbody tr th {\n",
       "        vertical-align: top;\n",
       "    }\n",
       "\n",
       "    .dataframe thead th {\n",
       "        text-align: right;\n",
       "    }\n",
       "</style>\n",
       "<table border=\"1\" class=\"dataframe\">\n",
       "  <thead>\n",
       "    <tr style=\"text-align: right;\">\n",
       "      <th></th>\n",
       "      <th>Model name</th>\n",
       "      <th>Test_accuracy</th>\n",
       "      <th>Precision_score</th>\n",
       "      <th>Recall_score</th>\n",
       "      <th>F1_score</th>\n",
       "      <th>Standard Deviation</th>\n",
       "    </tr>\n",
       "  </thead>\n",
       "  <tbody>\n",
       "    <tr>\n",
       "      <th>0</th>\n",
       "      <td>Random Forest Classifier</td>\n",
       "      <td>0.987276</td>\n",
       "      <td>0.736954</td>\n",
       "      <td>0.282278</td>\n",
       "      <td>0.407975</td>\n",
       "      <td>0.000211</td>\n",
       "    </tr>\n",
       "    <tr>\n",
       "      <th>1</th>\n",
       "      <td>Extra Tree Classifier</td>\n",
       "      <td>0.987231</td>\n",
       "      <td>0.749421</td>\n",
       "      <td>0.269023</td>\n",
       "      <td>0.395570</td>\n",
       "      <td>0.000123</td>\n",
       "    </tr>\n",
       "    <tr>\n",
       "      <th>2</th>\n",
       "      <td>k Nearest Neighbour</td>\n",
       "      <td>0.986430</td>\n",
       "      <td>0.650975</td>\n",
       "      <td>0.273932</td>\n",
       "      <td>0.385494</td>\n",
       "      <td>0.000230</td>\n",
       "    </tr>\n",
       "    <tr>\n",
       "      <th>3</th>\n",
       "      <td>Linear Regression</td>\n",
       "      <td>0.985263</td>\n",
       "      <td>0.581242</td>\n",
       "      <td>0.189003</td>\n",
       "      <td>0.285047</td>\n",
       "      <td>0.000329</td>\n",
       "    </tr>\n",
       "    <tr>\n",
       "      <th>4</th>\n",
       "      <td>SVC</td>\n",
       "      <td>0.984744</td>\n",
       "      <td>0.584177</td>\n",
       "      <td>0.062347</td>\n",
       "      <td>0.112564</td>\n",
       "      <td>0.000181</td>\n",
       "    </tr>\n",
       "    <tr>\n",
       "      <th>5</th>\n",
       "      <td>Decision Tree</td>\n",
       "      <td>0.980167</td>\n",
       "      <td>0.371481</td>\n",
       "      <td>0.398625</td>\n",
       "      <td>0.384541</td>\n",
       "      <td>0.000560</td>\n",
       "    </tr>\n",
       "  </tbody>\n",
       "</table>\n",
       "</div>"
      ],
      "text/plain": [
       "                 Model name  Test_accuracy  Precision_score  Recall_score  \\\n",
       "0  Random Forest Classifier       0.987276         0.736954      0.282278   \n",
       "1     Extra Tree Classifier       0.987231         0.749421      0.269023   \n",
       "2       k Nearest Neighbour       0.986430         0.650975      0.273932   \n",
       "3         Linear Regression       0.985263         0.581242      0.189003   \n",
       "4                       SVC       0.984744         0.584177      0.062347   \n",
       "5             Decision Tree       0.980167         0.371481      0.398625   \n",
       "\n",
       "   F1_score  Standard Deviation  \n",
       "0  0.407975            0.000211  \n",
       "1  0.395570            0.000123  \n",
       "2  0.385494            0.000230  \n",
       "3  0.285047            0.000329  \n",
       "4  0.112564            0.000181  \n",
       "5  0.384541            0.000560  "
      ]
     },
     "execution_count": 46,
     "metadata": {},
     "output_type": "execute_result"
    }
   ],
   "source": [
    "df_result"
   ]
  },
  {
   "cell_type": "code",
   "execution_count": 45,
   "metadata": {},
   "outputs": [
    {
     "name": "stdout",
     "output_type": "stream",
     "text": [
      "Linear Regression\n",
      "[[42940    80]\n",
      " [  551   128]]\n",
      "[[42932    87]\n",
      " [  550   129]]\n",
      "[[42906   113]\n",
      " [  551   128]]\n",
      "Decision Tree\n",
      "[[42574   446]\n",
      " [  412   267]]\n",
      "[[42574   445]\n",
      " [  397   282]]\n",
      "[[42535   484]\n",
      " [  416   263]]\n",
      "Random Forest Classifier\n",
      "[[42963    57]\n",
      " [  493   186]]\n",
      "[[42946    73]\n",
      " [  476   203]]\n",
      "[[42943    76]\n",
      " [  493   186]]\n",
      "SVC\n",
      "[[42994    26]\n",
      " [  643    36]]\n",
      "[[42983    36]\n",
      " [  639    40]]\n",
      "[[42991    28]\n",
      " [  628    51]]\n",
      "k Nearest Neighbour\n",
      "[[42931    89]\n",
      " [  490   189]]\n",
      "[[42920    99]\n",
      " [  499   180]]\n",
      "[[42907   112]\n",
      " [  490   189]]\n",
      "Extra Tree Classifier\n",
      "[[42968    52]\n",
      " [  500   179]]\n",
      "[[42963    56]\n",
      " [  501   178]]\n",
      "[[42942    77]\n",
      " [  488   191]]\n"
     ]
    }
   ],
   "source": [
    "for d in mat.items():\n",
    "    print(d[0])\n",
    "    print(d[1][0])\n",
    "    print(d[1][1])\n",
    "    print(d[1][2])\n",
    "    "
   ]
  },
  {
   "cell_type": "markdown",
   "metadata": {},
   "source": [
    "#### We observe that \"Random Forest Classifier\" is the best among all given classifiers"
   ]
  },
  {
   "cell_type": "markdown",
   "metadata": {},
   "source": [
    "## Hyperparameter Tuning"
   ]
  },
  {
   "cell_type": "markdown",
   "metadata": {},
   "source": [
    "### Grid Search"
   ]
  },
  {
   "cell_type": "code",
   "execution_count": 52,
   "metadata": {},
   "outputs": [],
   "source": [
    "from sklearn.metrics import make_scorer, accuracy_score"
   ]
  },
  {
   "cell_type": "code",
   "execution_count": 56,
   "metadata": {},
   "outputs": [
    {
     "data": {
      "text/plain": [
       "GridSearchCV(cv=3, error_score=nan,\n",
       "             estimator=RandomForestClassifier(bootstrap=True, ccp_alpha=0.0,\n",
       "                                              class_weight=None,\n",
       "                                              criterion='gini', max_depth=None,\n",
       "                                              max_features='auto',\n",
       "                                              max_leaf_nodes=None,\n",
       "                                              max_samples=None,\n",
       "                                              min_impurity_decrease=0.0,\n",
       "                                              min_impurity_split=None,\n",
       "                                              min_samples_leaf=1,\n",
       "                                              min_samples_split=2,\n",
       "                                              min_weight_fraction_leaf=0.0,\n",
       "                                              n_estimators=100, n_jobs=None,...\n",
       "                         'min_samples_leaf': [2, 4, 6],\n",
       "                         'min_samples_split': [2, 4, 6],\n",
       "                         'n_estimators': [10, 20, 30], 'random_state': [1]},\n",
       "             pre_dispatch='2*n_jobs', refit='f1_score', return_train_score=True,\n",
       "             scoring={'accuracy_score': make_scorer(accuracy_score),\n",
       "                      'f1_score': make_scorer(f1_score),\n",
       "                      'precision_score': make_scorer(precision_score),\n",
       "                      'recall_score': make_scorer(recall_score)},\n",
       "             verbose=0)"
      ]
     },
     "execution_count": 56,
     "metadata": {},
     "output_type": "execute_result"
    }
   ],
   "source": [
    "scorers = {\n",
    "    'precision_score': make_scorer(precision_score),\n",
    "    'recall_score': make_scorer(recall_score),\n",
    "    'f1_score': make_scorer(f1_score),\n",
    "    'accuracy_score': make_scorer(accuracy_score)\n",
    "}\n",
    "\n",
    "#skf = StratifiedKFold(n_splits=10, shuffle=True, random_state=1)\n",
    "\n",
    "rf_params = {'random_state': [1],\n",
    "             'max_depth': [10, 20, 30],\n",
    "             'max_features': [5, 10, 20],\n",
    "             'min_samples_leaf': [2,4,6],\n",
    "             'min_samples_split': [2,4,6],\n",
    "             'n_estimators': [10,20,30]}\n",
    "\n",
    "grid = GridSearchCV(rf, \n",
    "                    rf_params,\n",
    "                    scoring = scorers,\n",
    "                    refit = 'f1_score',\n",
    "                    cv = 3,  #skf\n",
    "                    return_train_score=True,\n",
    "                    n_jobs = -1)\n",
    "\n",
    "grid.fit(X_train, y_train)"
   ]
  },
  {
   "cell_type": "code",
   "execution_count": 57,
   "metadata": {},
   "outputs": [
    {
     "data": {
      "text/plain": [
       "{'max_depth': 30,\n",
       " 'max_features': 10,\n",
       " 'min_samples_leaf': 2,\n",
       " 'min_samples_split': 2,\n",
       " 'n_estimators': 30,\n",
       " 'random_state': 1}"
      ]
     },
     "execution_count": 57,
     "metadata": {},
     "output_type": "execute_result"
    }
   ],
   "source": [
    "grid.best_params_"
   ]
  },
  {
   "cell_type": "markdown",
   "metadata": {},
   "source": [
    "#### Now I tried with many different possibilities each time taking a more closer value to best performing hyperparameter values."
   ]
  },
  {
   "cell_type": "code",
   "execution_count": 64,
   "metadata": {},
   "outputs": [
    {
     "data": {
      "text/plain": [
       "GridSearchCV(cv=3, error_score=nan,\n",
       "             estimator=RandomForestClassifier(bootstrap=True, ccp_alpha=0.0,\n",
       "                                              class_weight=None,\n",
       "                                              criterion='gini', max_depth=None,\n",
       "                                              max_features='auto',\n",
       "                                              max_leaf_nodes=None,\n",
       "                                              max_samples=None,\n",
       "                                              min_impurity_decrease=0.0,\n",
       "                                              min_impurity_split=None,\n",
       "                                              min_samples_leaf=1,\n",
       "                                              min_samples_split=2,\n",
       "                                              min_weight_fraction_leaf=0.0,\n",
       "                                              n_estimators=100, n_jobs=None,...\n",
       "             param_grid={'max_depth': [33, 35, 37], 'max_features': [8, 9, 10],\n",
       "                         'min_samples_leaf': [1], 'min_samples_split': [2],\n",
       "                         'n_estimators': [24, 25, 26], 'random_state': [1]},\n",
       "             pre_dispatch='2*n_jobs', refit='f1_score', return_train_score=True,\n",
       "             scoring={'accuracy_score': make_scorer(accuracy_score),\n",
       "                      'f1_score': make_scorer(f1_score),\n",
       "                      'precision_score': make_scorer(precision_score),\n",
       "                      'recall_score': make_scorer(recall_score)},\n",
       "             verbose=0)"
      ]
     },
     "execution_count": 64,
     "metadata": {},
     "output_type": "execute_result"
    }
   ],
   "source": [
    "scorers = {\n",
    "    'precision_score': make_scorer(precision_score),\n",
    "    'recall_score': make_scorer(recall_score),\n",
    "    'f1_score': make_scorer(f1_score),\n",
    "    'accuracy_score': make_scorer(accuracy_score)\n",
    "}\n",
    "\n",
    "#skf = StratifiedKFold(n_splits=10, shuffle=True, random_state=1)\n",
    "\n",
    "rf_params = {'random_state': [1],\n",
    "             'max_depth': [33,35,37],\n",
    "             'max_features': [8, 9, 10],\n",
    "             'min_samples_leaf': [1],\n",
    "             'min_samples_split': [2],\n",
    "             'n_estimators': [24, 25, 26]}\n",
    "\n",
    "grid = GridSearchCV(rf, \n",
    "                    rf_params,\n",
    "                    scoring = scorers,\n",
    "                    refit = 'f1_score',\n",
    "                    cv = 3,  #skf\n",
    "                    return_train_score=True,\n",
    "                    n_jobs = -1)\n",
    "\n",
    "grid.fit(X_train, y_train)"
   ]
  },
  {
   "cell_type": "code",
   "execution_count": 65,
   "metadata": {},
   "outputs": [
    {
     "data": {
      "text/plain": [
       "{'max_depth': 35,\n",
       " 'max_features': 9,\n",
       " 'min_samples_leaf': 1,\n",
       " 'min_samples_split': 2,\n",
       " 'n_estimators': 25,\n",
       " 'random_state': 1}"
      ]
     },
     "execution_count": 65,
     "metadata": {},
     "output_type": "execute_result"
    }
   ],
   "source": [
    "grid.best_params_"
   ]
  },
  {
   "cell_type": "markdown",
   "metadata": {},
   "source": [
    "#### We get our list of best hyperparameters.. Now we are ready for the final classification"
   ]
  },
  {
   "cell_type": "code",
   "execution_count": 66,
   "metadata": {},
   "outputs": [],
   "source": [
    "rf_gs = RandomForestClassifier(**grid.best_params_)"
   ]
  },
  {
   "cell_type": "code",
   "execution_count": 82,
   "metadata": {},
   "outputs": [],
   "source": [
    "def Best_Clf(clf, x_train, y_train, x_test, y_test):\n",
    "\n",
    "    skfolds = StratifiedKFold(n_splits=3, random_state=42)\n",
    "\n",
    "    cv_results = []\n",
    "    precision_results = []\n",
    "    recall_results = []\n",
    "    f1_results = []\n",
    "\n",
    "    print(\"-----------------Train set CV result----------------------\")\n",
    "    for train_index, test_index in skfolds.split(x_train, y_train):\n",
    "\n",
    "        x_train_folds = x_train.iloc[train_index]\n",
    "        y_train_folds = y_train.iloc[train_index]\n",
    "        x_test_fold = x_train.iloc[test_index]\n",
    "        y_test_fold = y_train.iloc[test_index]\n",
    "        clf.fit(x_train_folds, y_train_folds)\n",
    "\n",
    "        y_pred_cv = clf.predict(x_test_fold)\n",
    "        n_correct = sum(y_pred_cv == y_test_fold)\n",
    "        cv_results.append(n_correct / len(y_pred_cv))\n",
    "        precision_results.append(precision_score(y_test_fold, y_pred_cv))\n",
    "        recall_results.append(recall_score(y_test_fold, y_pred_cv))\n",
    "        f1_results.append(f1_score(y_test_fold, y_pred_cv))\n",
    "        print(confusion_matrix(y_test_fold, y_pred_cv))\n",
    "\n",
    "\n",
    "    print(\"Model name: Random Forest Classifier\" )\n",
    "    print(\"Accuracy: \", np.mean(cv_results))\n",
    "    print('Precision_score: ', np.mean(precision_results))\n",
    "    print('Recall_score: ', np.mean(recall_results))\n",
    "    print('F1_score: ', np.mean(f1_results))\n",
    "    print('Standard Deviation: ', np.std(cv_results))\n",
    "    print(\"----------------------------------------------------------\")\n",
    "    \n",
    "    \n",
    "    print(\"---------------------Test set result-----------------------\")\n",
    "    print(\"Model name: Random Forest Classifier\" )\n",
    "\n",
    "    y_pred = clf.predict(x_test)\n",
    "    n_correct = sum(y_pred == y_test)\n",
    "    result = (n_correct / len(y_pred))\n",
    "    precision = (precision_score(y_test, y_pred))\n",
    "    recall = (recall_score(y_test, y_pred))\n",
    "    f1 = (f1_score(y_test, y_pred))\n",
    "    print(confusion_matrix(y_test, y_pred))\n",
    "\n",
    "    print(\"Accuracy: \", result)\n",
    "    print('Precision_score: ', precision)\n",
    "    print('Recall_score: ', recall)\n",
    "    print('F1_score: ', f1)\n",
    "    print(\"----------------------------------------------------------\")\n",
    "    \n",
    "    return y_pred_cv, y_pred"
   ]
  },
  {
   "cell_type": "code",
   "execution_count": 83,
   "metadata": {},
   "outputs": [
    {
     "name": "stdout",
     "output_type": "stream",
     "text": [
      "-----------------Train set CV result----------------------\n",
      "[[42932    88]\n",
      " [  453   226]]\n",
      "[[42918   101]\n",
      " [  467   212]]\n",
      "[[42896   123]\n",
      " [  459   220]]\n",
      "Model name: Random Forest Classifier\n",
      "Accuracy:  0.9871009533628237\n",
      "Precision_score:  0.6794869779230899\n",
      "Recall_score:  0.32302405498281783\n",
      "F1_score:  0.437711344900489\n",
      "Standard Deviation:  0.00038953336864617133\n",
      "----------------------------------------------------------\n",
      "---------------------Test set result-----------------------\n",
      "Model name: Random Forest Classifier\n",
      "[[32182    83]\n",
      " [  367   142]]\n",
      "Accuracy:  0.986269603954354\n",
      "Precision_score:  0.6311111111111111\n",
      "Recall_score:  0.27897838899803534\n",
      "F1_score:  0.3869209809264305\n",
      "----------------------------------------------------------\n"
     ]
    }
   ],
   "source": [
    "y_pred_cv, y_pred = Best_Clf(rf_gs, X_train, y_train, X_test, y_test)"
   ]
  },
  {
   "cell_type": "code",
   "execution_count": 87,
   "metadata": {},
   "outputs": [
    {
     "data": {
      "text/plain": [
       "0.638202971037062"
      ]
     },
     "execution_count": 87,
     "metadata": {},
     "output_type": "execute_result"
    }
   ],
   "source": [
    "from sklearn.metrics import roc_auc_score\n",
    "\n",
    "roc_auc_score(y_test, y_pred)"
   ]
  },
  {
   "cell_type": "code",
   "execution_count": 94,
   "metadata": {},
   "outputs": [
    {
     "name": "stdout",
     "output_type": "stream",
     "text": [
      "acceleration_x(g) 0.10170952926868468\n",
      "acceleration_y(g) 0.19362658628701002\n",
      "acceleration_z(g) 0.09754985137922756\n",
      "roll(rad) 0.06774212345133818\n",
      "pitch(rad) 0.07649233631172696\n",
      "yaw(rad) 0.06554271798327406\n",
      "angular_velocity_x(rad/sec) 0.058633885927254055\n",
      "angular_velocity_z(rad/sec) 0.06965512083645405\n",
      "change_roll 0.09301968985437327\n",
      "change_pitch 0.08745820006241392\n",
      "change_yaw 0.08856995863824331\n"
     ]
    }
   ],
   "source": [
    "for name, score in zip(X_train.columns, rf_gs.feature_importances_):\n",
    "    print(name, score)"
   ]
  },
  {
   "cell_type": "markdown",
   "metadata": {},
   "source": [
    "### Future Plans"
   ]
  },
  {
   "cell_type": "markdown",
   "metadata": {},
   "source": [
    "#### Later we can improve by deriving better different features. \n",
    "#### Can work on preprocessing steps and include feature selection methods\n",
    "#### Can try few different classification algorithms like LightGBM, Extratrees, Boosting, etc. \n",
    "#### From graph patterns we observe there is some noise/flaw in data so we could deal with that. \n",
    "#### Another thing would be to use Randomized_Search_CV \n",
    "#### In the end we can still try to improve out performance for shake detection."
   ]
  },
  {
   "cell_type": "markdown",
   "metadata": {},
   "source": [
    "#### Reference \n",
    "#### https://machinelearningmastery.com/framework-for-imbalanced-classification-projects/\n",
    "#### https://scikit-learn.org/stable/index.html\n"
   ]
  }
 ],
 "metadata": {
  "kernelspec": {
   "display_name": "Python 3 (ipykernel)",
   "language": "python",
   "name": "python3"
  },
  "language_info": {
   "codemirror_mode": {
    "name": "ipython",
    "version": 3
   },
   "file_extension": ".py",
   "mimetype": "text/x-python",
   "name": "python",
   "nbconvert_exporter": "python",
   "pygments_lexer": "ipython3",
   "version": "3.11.7"
  }
 },
 "nbformat": 4,
 "nbformat_minor": 2
}
